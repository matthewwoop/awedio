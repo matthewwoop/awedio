{
 "cells": [
  {
   "cell_type": "code",
   "execution_count": 1,
   "metadata": {},
   "outputs": [],
   "source": [
    "import pyaudio\n",
    "import struct\n",
    "import numpy as np\n",
    "from matplotlib import pyplot as plt\n",
    "\n",
    "%matplotlib tk"
   ]
  },
  {
   "cell_type": "code",
   "execution_count": 2,
   "metadata": {},
   "outputs": [],
   "source": [
    "import pprint"
   ]
  },
  {
   "cell_type": "code",
   "execution_count": 16,
   "metadata": {},
   "outputs": [],
   "source": [
    "FORMAT = pyaudio.paInt16 # data type for our chunk size\n",
    "CHANNELS = 1 # mono\n",
    "\n",
    "CHUNK = 1024 * 4 # 4096 samples per chunk\n",
    "RATE = 44100 # samples per second"
   ]
  },
  {
   "cell_type": "code",
   "execution_count": 4,
   "metadata": {},
   "outputs": [],
   "source": [
    "p = pyaudio.PyAudio()"
   ]
  },
  {
   "cell_type": "code",
   "execution_count": 5,
   "metadata": {},
   "outputs": [],
   "source": [
    "fig, ax = plt.subplots()"
   ]
  },
  {
   "cell_type": "code",
   "execution_count": 6,
   "metadata": {},
   "outputs": [],
   "source": [
    "def unpack_data(data, size=CHUNK):\n",
    "    return struct.unpack(str(size) + 'h', data)"
   ]
  },
  {
   "cell_type": "code",
   "execution_count": 7,
   "metadata": {},
   "outputs": [
    {
     "name": "stdout",
     "output_type": "stream",
     "text": [
      "Found desired device!\n",
      "\n",
      "{'defaultHighInputLatency': 0.1,\n",
      " 'defaultHighOutputLatency': 0.014535147392290249,\n",
      " 'defaultLowInputLatency': 0.01,\n",
      " 'defaultLowOutputLatency': 0.004376417233560091,\n",
      " 'defaultSampleRate': 44100.0,\n",
      " 'hostApi': 0,\n",
      " 'index': 3,\n",
      " 'maxInputChannels': 2,\n",
      " 'maxOutputChannels': 2,\n",
      " 'name': 'Steinberg UR22mkII ',\n",
      " 'structVersion': 2}\n"
     ]
    }
   ],
   "source": [
    "default_device_index = 0\n",
    "desired_dev_name = 'Steinberg UR22mkII'\n",
    "\n",
    "chosen_device_index = default_device_index\n",
    "chosen_device = p.get_device_info_by_index(default_device_index)\n",
    "\n",
    "for dev_idx in range(0, p.get_device_count()):\n",
    "    dev_info = p.get_device_info_by_index(dev_idx)\n",
    "    \n",
    "    if desired_dev_name in dev_info['name']:\n",
    "        print('Found desired device!\\n')        \n",
    "        chosen_device_index = dev_idx\n",
    "        chosen_device = dev_info\n",
    "        break\n",
    "        \n",
    "pprint.pprint(chosen_device)"
   ]
  },
  {
   "cell_type": "code",
   "execution_count": 17,
   "metadata": {},
   "outputs": [
    {
     "ename": "error",
     "evalue": "unpack requires a buffer of 8192 bytes",
     "output_type": "error",
     "traceback": [
      "\u001b[0;31m---------------------------------------------------------------------------\u001b[0m",
      "\u001b[0;31merror\u001b[0m                                     Traceback (most recent call last)",
      "\u001b[0;32m<ipython-input-17-58c67cad4f01>\u001b[0m in \u001b[0;36m<module>\u001b[0;34m\u001b[0m\n\u001b[1;32m     27\u001b[0m         \u001b[0mraw_data\u001b[0m \u001b[0;34m=\u001b[0m \u001b[0;34mb'\\x00'\u001b[0m \u001b[0;34m*\u001b[0m \u001b[0mCHUNK\u001b[0m\u001b[0;34m\u001b[0m\u001b[0;34m\u001b[0m\u001b[0m\n\u001b[1;32m     28\u001b[0m \u001b[0;34m\u001b[0m\u001b[0m\n\u001b[0;32m---> 29\u001b[0;31m     \u001b[0mdata_int16\u001b[0m \u001b[0;34m=\u001b[0m \u001b[0munpack_data\u001b[0m\u001b[0;34m(\u001b[0m\u001b[0mraw_data\u001b[0m\u001b[0;34m)\u001b[0m\u001b[0;34m\u001b[0m\u001b[0;34m\u001b[0m\u001b[0m\n\u001b[0m\u001b[1;32m     30\u001b[0m     \u001b[0mline\u001b[0m\u001b[0;34m.\u001b[0m\u001b[0mset_ydata\u001b[0m\u001b[0;34m(\u001b[0m\u001b[0mdata_int16\u001b[0m\u001b[0;34m)\u001b[0m\u001b[0;34m\u001b[0m\u001b[0;34m\u001b[0m\u001b[0m\n\u001b[1;32m     31\u001b[0m     \u001b[0mfig\u001b[0m\u001b[0;34m.\u001b[0m\u001b[0mcanvas\u001b[0m\u001b[0;34m.\u001b[0m\u001b[0mdraw\u001b[0m\u001b[0;34m(\u001b[0m\u001b[0;34m)\u001b[0m\u001b[0;34m\u001b[0m\u001b[0;34m\u001b[0m\u001b[0m\n",
      "\u001b[0;32m<ipython-input-6-8bf42e281e1d>\u001b[0m in \u001b[0;36munpack_data\u001b[0;34m(data, size)\u001b[0m\n\u001b[1;32m      1\u001b[0m \u001b[0;32mdef\u001b[0m \u001b[0munpack_data\u001b[0m\u001b[0;34m(\u001b[0m\u001b[0mdata\u001b[0m\u001b[0;34m,\u001b[0m \u001b[0msize\u001b[0m\u001b[0;34m=\u001b[0m\u001b[0mCHUNK\u001b[0m\u001b[0;34m)\u001b[0m\u001b[0;34m:\u001b[0m\u001b[0;34m\u001b[0m\u001b[0;34m\u001b[0m\u001b[0m\n\u001b[0;32m----> 2\u001b[0;31m     \u001b[0;32mreturn\u001b[0m \u001b[0mstruct\u001b[0m\u001b[0;34m.\u001b[0m\u001b[0munpack\u001b[0m\u001b[0;34m(\u001b[0m\u001b[0mstr\u001b[0m\u001b[0;34m(\u001b[0m\u001b[0msize\u001b[0m\u001b[0;34m)\u001b[0m \u001b[0;34m+\u001b[0m \u001b[0;34m'h'\u001b[0m\u001b[0;34m,\u001b[0m \u001b[0mdata\u001b[0m\u001b[0;34m)\u001b[0m\u001b[0;34m\u001b[0m\u001b[0;34m\u001b[0m\u001b[0m\n\u001b[0m",
      "\u001b[0;31merror\u001b[0m: unpack requires a buffer of 8192 bytes"
     ]
    }
   ],
   "source": [
    "stream = p.open(\n",
    "    format=FORMAT,\n",
    "    channels=CHANNELS,\n",
    "    rate=RATE,\n",
    "    input_device_index=chosen_device_index,\n",
    "    input=True,\n",
    "    output=True,\n",
    "    frames_per_buffer=CHUNK\n",
    ")\n",
    "\n",
    "#data_raw_bytes = stream.read(CHUNK)\n",
    "#data_int = unpack_data(data_raw_bytes)\n",
    "\n",
    "x = np.arange(0, CHUNK)\n",
    "data = stream.read(CHUNK)\n",
    "data_int16 = struct.unpack(str(CHUNK) + 'h', data)\n",
    "line, = ax.plot(x, data_int16)\n",
    "ax.set_ylim([-2**15, 2**15 - 1])\n",
    "\n",
    "while True:\n",
    "    try:\n",
    "        raw_data = stream.read(CHUNK)\n",
    "    except OSError as e:\n",
    "        \n",
    "        if pyaudio.paInputOverflowed != -9981:\n",
    "            raise\n",
    "        raw_data = b'\\x00' * CHUNK\n",
    "        \n",
    "    data_int16 = unpack_data(raw_data)\n",
    "    line.set_ydata(data_int16)\n",
    "    fig.canvas.draw()\n",
    "\n",
    "    fig.canvas.flush_events()\n",
    "    fig.show()"
   ]
  },
  {
   "cell_type": "code",
   "execution_count": null,
   "metadata": {},
   "outputs": [],
   "source": [
    "pyaudio.paInputOverflowed"
   ]
  },
  {
   "cell_type": "code",
   "execution_count": null,
   "metadata": {},
   "outputs": [],
   "source": []
  }
 ],
 "metadata": {
  "kernelspec": {
   "display_name": "Python 3",
   "language": "python",
   "name": "python3"
  },
  "language_info": {
   "codemirror_mode": {
    "name": "ipython",
    "version": 3
   },
   "file_extension": ".py",
   "mimetype": "text/x-python",
   "name": "python",
   "nbconvert_exporter": "python",
   "pygments_lexer": "ipython3",
   "version": "3.7.4"
  }
 },
 "nbformat": 4,
 "nbformat_minor": 2
}
